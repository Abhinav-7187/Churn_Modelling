{
 "cells": [
  {
   "cell_type": "code",
   "execution_count": 1,
   "id": "da82e22c",
   "metadata": {
    "scrolled": true
   },
   "outputs": [
    {
     "name": "stdout",
     "output_type": "stream",
     "text": [
      "WARNING:tensorflow:From C:\\Users\\abhin\\AppData\\Roaming\\Python\\Python310\\site-packages\\keras\\src\\losses.py:2976: The name tf.losses.sparse_softmax_cross_entropy is deprecated. Please use tf.compat.v1.losses.sparse_softmax_cross_entropy instead.\n",
      "\n"
     ]
    }
   ],
   "source": [
    "import tensorflow as tf"
   ]
  },
  {
   "cell_type": "code",
   "execution_count": 2,
   "id": "970995b6",
   "metadata": {},
   "outputs": [],
   "source": [
    "import numpy as np\n",
    "import matplotlib.pyplot as pit\n",
    "import pandas as pd\n",
    "import seaborn as sns"
   ]
  },
  {
   "cell_type": "code",
   "execution_count": 3,
   "id": "b9ffd9d1",
   "metadata": {},
   "outputs": [
    {
     "data": {
      "text/html": [
       "<div>\n",
       "<style scoped>\n",
       "    .dataframe tbody tr th:only-of-type {\n",
       "        vertical-align: middle;\n",
       "    }\n",
       "\n",
       "    .dataframe tbody tr th {\n",
       "        vertical-align: top;\n",
       "    }\n",
       "\n",
       "    .dataframe thead th {\n",
       "        text-align: right;\n",
       "    }\n",
       "</style>\n",
       "<table border=\"1\" class=\"dataframe\">\n",
       "  <thead>\n",
       "    <tr style=\"text-align: right;\">\n",
       "      <th></th>\n",
       "      <th>RowNumber</th>\n",
       "      <th>CustomerId</th>\n",
       "      <th>Surname</th>\n",
       "      <th>CreditScore</th>\n",
       "      <th>Geography</th>\n",
       "      <th>Gender</th>\n",
       "      <th>Age</th>\n",
       "      <th>Tenure</th>\n",
       "      <th>Balance</th>\n",
       "      <th>NumOfProducts</th>\n",
       "      <th>HasCrCard</th>\n",
       "      <th>IsActiveMember</th>\n",
       "      <th>EstimatedSalary</th>\n",
       "      <th>Exited</th>\n",
       "    </tr>\n",
       "  </thead>\n",
       "  <tbody>\n",
       "    <tr>\n",
       "      <th>0</th>\n",
       "      <td>1</td>\n",
       "      <td>15634602</td>\n",
       "      <td>Hargrave</td>\n",
       "      <td>619</td>\n",
       "      <td>France</td>\n",
       "      <td>Female</td>\n",
       "      <td>42</td>\n",
       "      <td>2</td>\n",
       "      <td>0.00</td>\n",
       "      <td>1</td>\n",
       "      <td>1</td>\n",
       "      <td>1</td>\n",
       "      <td>101348.88</td>\n",
       "      <td>1</td>\n",
       "    </tr>\n",
       "    <tr>\n",
       "      <th>1</th>\n",
       "      <td>2</td>\n",
       "      <td>15647311</td>\n",
       "      <td>Hill</td>\n",
       "      <td>608</td>\n",
       "      <td>Spain</td>\n",
       "      <td>Female</td>\n",
       "      <td>41</td>\n",
       "      <td>1</td>\n",
       "      <td>83807.86</td>\n",
       "      <td>1</td>\n",
       "      <td>0</td>\n",
       "      <td>1</td>\n",
       "      <td>112542.58</td>\n",
       "      <td>0</td>\n",
       "    </tr>\n",
       "    <tr>\n",
       "      <th>2</th>\n",
       "      <td>3</td>\n",
       "      <td>15619304</td>\n",
       "      <td>Onio</td>\n",
       "      <td>502</td>\n",
       "      <td>France</td>\n",
       "      <td>Female</td>\n",
       "      <td>42</td>\n",
       "      <td>8</td>\n",
       "      <td>159660.80</td>\n",
       "      <td>3</td>\n",
       "      <td>1</td>\n",
       "      <td>0</td>\n",
       "      <td>113931.57</td>\n",
       "      <td>1</td>\n",
       "    </tr>\n",
       "    <tr>\n",
       "      <th>3</th>\n",
       "      <td>4</td>\n",
       "      <td>15701354</td>\n",
       "      <td>Boni</td>\n",
       "      <td>699</td>\n",
       "      <td>France</td>\n",
       "      <td>Female</td>\n",
       "      <td>39</td>\n",
       "      <td>1</td>\n",
       "      <td>0.00</td>\n",
       "      <td>2</td>\n",
       "      <td>0</td>\n",
       "      <td>0</td>\n",
       "      <td>93826.63</td>\n",
       "      <td>0</td>\n",
       "    </tr>\n",
       "    <tr>\n",
       "      <th>4</th>\n",
       "      <td>5</td>\n",
       "      <td>15737888</td>\n",
       "      <td>Mitchell</td>\n",
       "      <td>850</td>\n",
       "      <td>Spain</td>\n",
       "      <td>Female</td>\n",
       "      <td>43</td>\n",
       "      <td>2</td>\n",
       "      <td>125510.82</td>\n",
       "      <td>1</td>\n",
       "      <td>1</td>\n",
       "      <td>1</td>\n",
       "      <td>79084.10</td>\n",
       "      <td>0</td>\n",
       "    </tr>\n",
       "  </tbody>\n",
       "</table>\n",
       "</div>"
      ],
      "text/plain": [
       "   RowNumber  CustomerId   Surname  CreditScore Geography  Gender  Age  \\\n",
       "0          1    15634602  Hargrave          619    France  Female   42   \n",
       "1          2    15647311      Hill          608     Spain  Female   41   \n",
       "2          3    15619304      Onio          502    France  Female   42   \n",
       "3          4    15701354      Boni          699    France  Female   39   \n",
       "4          5    15737888  Mitchell          850     Spain  Female   43   \n",
       "\n",
       "   Tenure    Balance  NumOfProducts  HasCrCard  IsActiveMember  \\\n",
       "0       2       0.00              1          1               1   \n",
       "1       1   83807.86              1          0               1   \n",
       "2       8  159660.80              3          1               0   \n",
       "3       1       0.00              2          0               0   \n",
       "4       2  125510.82              1          1               1   \n",
       "\n",
       "   EstimatedSalary  Exited  \n",
       "0        101348.88       1  \n",
       "1        112542.58       0  \n",
       "2        113931.57       1  \n",
       "3         93826.63       0  \n",
       "4         79084.10       0  "
      ]
     },
     "execution_count": 3,
     "metadata": {},
     "output_type": "execute_result"
    }
   ],
   "source": [
    "dataset=pd.read_csv('D:\\panda\\Churn_Modelling.csv')\n",
    "dataset.head()"
   ]
  },
  {
   "cell_type": "code",
   "execution_count": 4,
   "id": "30c09e93",
   "metadata": {},
   "outputs": [],
   "source": [
    "# Divide the dataset into dependent and independent features\n",
    "X = dataset.iloc[:,3:13]\n",
    "y = dataset.iloc[:,13]"
   ]
  },
  {
   "cell_type": "code",
   "execution_count": 5,
   "id": "0676f045",
   "metadata": {},
   "outputs": [
    {
     "data": {
      "text/plain": [
       "(10000,)"
      ]
     },
     "execution_count": 5,
     "metadata": {},
     "output_type": "execute_result"
    }
   ],
   "source": [
    "y.shape"
   ]
  },
  {
   "cell_type": "code",
   "execution_count": 6,
   "id": "46e2c7e1",
   "metadata": {},
   "outputs": [],
   "source": [
    "## Feature Engineering(One-hot encoding to handle the categorical features)\n",
    "\n",
    "geography = pd.get_dummies(X['Geography'],drop_first = True)\n",
    "gender = pd.get_dummies(X['Gender'],drop_first = True)"
   ]
  },
  {
   "cell_type": "code",
   "execution_count": 7,
   "id": "998834f7",
   "metadata": {},
   "outputs": [
    {
     "data": {
      "text/html": [
       "<div>\n",
       "<style scoped>\n",
       "    .dataframe tbody tr th:only-of-type {\n",
       "        vertical-align: middle;\n",
       "    }\n",
       "\n",
       "    .dataframe tbody tr th {\n",
       "        vertical-align: top;\n",
       "    }\n",
       "\n",
       "    .dataframe thead th {\n",
       "        text-align: right;\n",
       "    }\n",
       "</style>\n",
       "<table border=\"1\" class=\"dataframe\">\n",
       "  <thead>\n",
       "    <tr style=\"text-align: right;\">\n",
       "      <th></th>\n",
       "      <th>Germany</th>\n",
       "      <th>Spain</th>\n",
       "    </tr>\n",
       "  </thead>\n",
       "  <tbody>\n",
       "    <tr>\n",
       "      <th>0</th>\n",
       "      <td>False</td>\n",
       "      <td>False</td>\n",
       "    </tr>\n",
       "    <tr>\n",
       "      <th>1</th>\n",
       "      <td>False</td>\n",
       "      <td>True</td>\n",
       "    </tr>\n",
       "    <tr>\n",
       "      <th>2</th>\n",
       "      <td>False</td>\n",
       "      <td>False</td>\n",
       "    </tr>\n",
       "    <tr>\n",
       "      <th>3</th>\n",
       "      <td>False</td>\n",
       "      <td>False</td>\n",
       "    </tr>\n",
       "    <tr>\n",
       "      <th>4</th>\n",
       "      <td>False</td>\n",
       "      <td>True</td>\n",
       "    </tr>\n",
       "  </tbody>\n",
       "</table>\n",
       "</div>"
      ],
      "text/plain": [
       "   Germany  Spain\n",
       "0    False  False\n",
       "1    False   True\n",
       "2    False  False\n",
       "3    False  False\n",
       "4    False   True"
      ]
     },
     "execution_count": 7,
     "metadata": {},
     "output_type": "execute_result"
    }
   ],
   "source": [
    "geography.head()"
   ]
  },
  {
   "cell_type": "code",
   "execution_count": 8,
   "id": "cb37b399",
   "metadata": {},
   "outputs": [
    {
     "data": {
      "text/html": [
       "<div>\n",
       "<style scoped>\n",
       "    .dataframe tbody tr th:only-of-type {\n",
       "        vertical-align: middle;\n",
       "    }\n",
       "\n",
       "    .dataframe tbody tr th {\n",
       "        vertical-align: top;\n",
       "    }\n",
       "\n",
       "    .dataframe thead th {\n",
       "        text-align: right;\n",
       "    }\n",
       "</style>\n",
       "<table border=\"1\" class=\"dataframe\">\n",
       "  <thead>\n",
       "    <tr style=\"text-align: right;\">\n",
       "      <th></th>\n",
       "      <th>Male</th>\n",
       "    </tr>\n",
       "  </thead>\n",
       "  <tbody>\n",
       "    <tr>\n",
       "      <th>0</th>\n",
       "      <td>False</td>\n",
       "    </tr>\n",
       "    <tr>\n",
       "      <th>1</th>\n",
       "      <td>False</td>\n",
       "    </tr>\n",
       "    <tr>\n",
       "      <th>2</th>\n",
       "      <td>False</td>\n",
       "    </tr>\n",
       "    <tr>\n",
       "      <th>3</th>\n",
       "      <td>False</td>\n",
       "    </tr>\n",
       "    <tr>\n",
       "      <th>4</th>\n",
       "      <td>False</td>\n",
       "    </tr>\n",
       "  </tbody>\n",
       "</table>\n",
       "</div>"
      ],
      "text/plain": [
       "    Male\n",
       "0  False\n",
       "1  False\n",
       "2  False\n",
       "3  False\n",
       "4  False"
      ]
     },
     "execution_count": 8,
     "metadata": {},
     "output_type": "execute_result"
    }
   ],
   "source": [
    "gender.head()"
   ]
  },
  {
   "cell_type": "code",
   "execution_count": 9,
   "id": "51815ba0",
   "metadata": {},
   "outputs": [],
   "source": [
    "## Concatenate these features by dropping them from dataframe\n",
    "X = X.drop(['Geography','Gender'], axis=1)"
   ]
  },
  {
   "cell_type": "code",
   "execution_count": 10,
   "id": "aa5c5bf3",
   "metadata": {},
   "outputs": [
    {
     "data": {
      "text/html": [
       "<div>\n",
       "<style scoped>\n",
       "    .dataframe tbody tr th:only-of-type {\n",
       "        vertical-align: middle;\n",
       "    }\n",
       "\n",
       "    .dataframe tbody tr th {\n",
       "        vertical-align: top;\n",
       "    }\n",
       "\n",
       "    .dataframe thead th {\n",
       "        text-align: right;\n",
       "    }\n",
       "</style>\n",
       "<table border=\"1\" class=\"dataframe\">\n",
       "  <thead>\n",
       "    <tr style=\"text-align: right;\">\n",
       "      <th></th>\n",
       "      <th>CreditScore</th>\n",
       "      <th>Age</th>\n",
       "      <th>Tenure</th>\n",
       "      <th>Balance</th>\n",
       "      <th>NumOfProducts</th>\n",
       "      <th>HasCrCard</th>\n",
       "      <th>IsActiveMember</th>\n",
       "      <th>EstimatedSalary</th>\n",
       "    </tr>\n",
       "  </thead>\n",
       "  <tbody>\n",
       "    <tr>\n",
       "      <th>0</th>\n",
       "      <td>619</td>\n",
       "      <td>42</td>\n",
       "      <td>2</td>\n",
       "      <td>0.00</td>\n",
       "      <td>1</td>\n",
       "      <td>1</td>\n",
       "      <td>1</td>\n",
       "      <td>101348.88</td>\n",
       "    </tr>\n",
       "    <tr>\n",
       "      <th>1</th>\n",
       "      <td>608</td>\n",
       "      <td>41</td>\n",
       "      <td>1</td>\n",
       "      <td>83807.86</td>\n",
       "      <td>1</td>\n",
       "      <td>0</td>\n",
       "      <td>1</td>\n",
       "      <td>112542.58</td>\n",
       "    </tr>\n",
       "    <tr>\n",
       "      <th>2</th>\n",
       "      <td>502</td>\n",
       "      <td>42</td>\n",
       "      <td>8</td>\n",
       "      <td>159660.80</td>\n",
       "      <td>3</td>\n",
       "      <td>1</td>\n",
       "      <td>0</td>\n",
       "      <td>113931.57</td>\n",
       "    </tr>\n",
       "    <tr>\n",
       "      <th>3</th>\n",
       "      <td>699</td>\n",
       "      <td>39</td>\n",
       "      <td>1</td>\n",
       "      <td>0.00</td>\n",
       "      <td>2</td>\n",
       "      <td>0</td>\n",
       "      <td>0</td>\n",
       "      <td>93826.63</td>\n",
       "    </tr>\n",
       "    <tr>\n",
       "      <th>4</th>\n",
       "      <td>850</td>\n",
       "      <td>43</td>\n",
       "      <td>2</td>\n",
       "      <td>125510.82</td>\n",
       "      <td>1</td>\n",
       "      <td>1</td>\n",
       "      <td>1</td>\n",
       "      <td>79084.10</td>\n",
       "    </tr>\n",
       "  </tbody>\n",
       "</table>\n",
       "</div>"
      ],
      "text/plain": [
       "   CreditScore  Age  Tenure    Balance  NumOfProducts  HasCrCard  \\\n",
       "0          619   42       2       0.00              1          1   \n",
       "1          608   41       1   83807.86              1          0   \n",
       "2          502   42       8  159660.80              3          1   \n",
       "3          699   39       1       0.00              2          0   \n",
       "4          850   43       2  125510.82              1          1   \n",
       "\n",
       "   IsActiveMember  EstimatedSalary  \n",
       "0               1        101348.88  \n",
       "1               1        112542.58  \n",
       "2               0        113931.57  \n",
       "3               0         93826.63  \n",
       "4               1         79084.10  "
      ]
     },
     "execution_count": 10,
     "metadata": {},
     "output_type": "execute_result"
    }
   ],
   "source": [
    "X.head()"
   ]
  },
  {
   "cell_type": "code",
   "execution_count": 11,
   "id": "e8e61cfd",
   "metadata": {},
   "outputs": [],
   "source": [
    "X=pd.concat([X, geography, gender],axis=1)"
   ]
  },
  {
   "cell_type": "code",
   "execution_count": 12,
   "id": "f3db5f42",
   "metadata": {},
   "outputs": [
    {
     "data": {
      "text/html": [
       "<div>\n",
       "<style scoped>\n",
       "    .dataframe tbody tr th:only-of-type {\n",
       "        vertical-align: middle;\n",
       "    }\n",
       "\n",
       "    .dataframe tbody tr th {\n",
       "        vertical-align: top;\n",
       "    }\n",
       "\n",
       "    .dataframe thead th {\n",
       "        text-align: right;\n",
       "    }\n",
       "</style>\n",
       "<table border=\"1\" class=\"dataframe\">\n",
       "  <thead>\n",
       "    <tr style=\"text-align: right;\">\n",
       "      <th></th>\n",
       "      <th>CreditScore</th>\n",
       "      <th>Age</th>\n",
       "      <th>Tenure</th>\n",
       "      <th>Balance</th>\n",
       "      <th>NumOfProducts</th>\n",
       "      <th>HasCrCard</th>\n",
       "      <th>IsActiveMember</th>\n",
       "      <th>EstimatedSalary</th>\n",
       "      <th>Germany</th>\n",
       "      <th>Spain</th>\n",
       "      <th>Male</th>\n",
       "    </tr>\n",
       "  </thead>\n",
       "  <tbody>\n",
       "    <tr>\n",
       "      <th>0</th>\n",
       "      <td>619</td>\n",
       "      <td>42</td>\n",
       "      <td>2</td>\n",
       "      <td>0.00</td>\n",
       "      <td>1</td>\n",
       "      <td>1</td>\n",
       "      <td>1</td>\n",
       "      <td>101348.88</td>\n",
       "      <td>False</td>\n",
       "      <td>False</td>\n",
       "      <td>False</td>\n",
       "    </tr>\n",
       "    <tr>\n",
       "      <th>1</th>\n",
       "      <td>608</td>\n",
       "      <td>41</td>\n",
       "      <td>1</td>\n",
       "      <td>83807.86</td>\n",
       "      <td>1</td>\n",
       "      <td>0</td>\n",
       "      <td>1</td>\n",
       "      <td>112542.58</td>\n",
       "      <td>False</td>\n",
       "      <td>True</td>\n",
       "      <td>False</td>\n",
       "    </tr>\n",
       "    <tr>\n",
       "      <th>2</th>\n",
       "      <td>502</td>\n",
       "      <td>42</td>\n",
       "      <td>8</td>\n",
       "      <td>159660.80</td>\n",
       "      <td>3</td>\n",
       "      <td>1</td>\n",
       "      <td>0</td>\n",
       "      <td>113931.57</td>\n",
       "      <td>False</td>\n",
       "      <td>False</td>\n",
       "      <td>False</td>\n",
       "    </tr>\n",
       "    <tr>\n",
       "      <th>3</th>\n",
       "      <td>699</td>\n",
       "      <td>39</td>\n",
       "      <td>1</td>\n",
       "      <td>0.00</td>\n",
       "      <td>2</td>\n",
       "      <td>0</td>\n",
       "      <td>0</td>\n",
       "      <td>93826.63</td>\n",
       "      <td>False</td>\n",
       "      <td>False</td>\n",
       "      <td>False</td>\n",
       "    </tr>\n",
       "    <tr>\n",
       "      <th>4</th>\n",
       "      <td>850</td>\n",
       "      <td>43</td>\n",
       "      <td>2</td>\n",
       "      <td>125510.82</td>\n",
       "      <td>1</td>\n",
       "      <td>1</td>\n",
       "      <td>1</td>\n",
       "      <td>79084.10</td>\n",
       "      <td>False</td>\n",
       "      <td>True</td>\n",
       "      <td>False</td>\n",
       "    </tr>\n",
       "  </tbody>\n",
       "</table>\n",
       "</div>"
      ],
      "text/plain": [
       "   CreditScore  Age  Tenure    Balance  NumOfProducts  HasCrCard  \\\n",
       "0          619   42       2       0.00              1          1   \n",
       "1          608   41       1   83807.86              1          0   \n",
       "2          502   42       8  159660.80              3          1   \n",
       "3          699   39       1       0.00              2          0   \n",
       "4          850   43       2  125510.82              1          1   \n",
       "\n",
       "   IsActiveMember  EstimatedSalary  Germany  Spain   Male  \n",
       "0               1        101348.88    False  False  False  \n",
       "1               1        112542.58    False   True  False  \n",
       "2               0        113931.57    False  False  False  \n",
       "3               0         93826.63    False  False  False  \n",
       "4               1         79084.10    False   True  False  "
      ]
     },
     "execution_count": 12,
     "metadata": {},
     "output_type": "execute_result"
    }
   ],
   "source": [
    "X.head()"
   ]
  },
  {
   "cell_type": "markdown",
   "id": "a2323847",
   "metadata": {},
   "source": [
    "## Splitting the datset into training and test set"
   ]
  },
  {
   "cell_type": "code",
   "execution_count": 13,
   "id": "6f5e1695",
   "metadata": {},
   "outputs": [],
   "source": [
    "from sklearn.model_selection import train_test_split\n",
    "X_train,X_test,y_train,y_test = train_test_split(X,y,test_size=0.2,random_state=0)"
   ]
  },
  {
   "cell_type": "code",
   "execution_count": 14,
   "id": "56bfd7b5",
   "metadata": {},
   "outputs": [
    {
     "data": {
      "text/plain": [
       "(10000, 11)"
      ]
     },
     "execution_count": 14,
     "metadata": {},
     "output_type": "execute_result"
    }
   ],
   "source": [
    "X.shape"
   ]
  },
  {
   "cell_type": "code",
   "execution_count": 15,
   "id": "028e92a4",
   "metadata": {},
   "outputs": [
    {
     "data": {
      "text/plain": [
       "(10000,)"
      ]
     },
     "execution_count": 15,
     "metadata": {},
     "output_type": "execute_result"
    }
   ],
   "source": [
    "y.shape"
   ]
  },
  {
   "cell_type": "markdown",
   "id": "b0330738",
   "metadata": {},
   "source": [
    "## Feature Scaling"
   ]
  },
  {
   "cell_type": "code",
   "execution_count": 16,
   "id": "2f1382e5",
   "metadata": {
    "scrolled": true
   },
   "outputs": [],
   "source": [
    "from sklearn.preprocessing import StandardScaler\n",
    "sc = StandardScaler()\n",
    "X_train = sc.fit_transform(X_train)\n",
    "X_test = sc.transform(X_test)"
   ]
  },
  {
   "cell_type": "code",
   "execution_count": 17,
   "id": "3e23f06f",
   "metadata": {},
   "outputs": [
    {
     "data": {
      "text/plain": [
       "array([[ 0.16958176, -0.46460796,  0.00666099, ..., -0.5698444 ,\n",
       "         1.74309049, -1.09168714],\n",
       "       [-2.30455945,  0.30102557, -1.37744033, ...,  1.75486502,\n",
       "        -0.57369368,  0.91601335],\n",
       "       [-1.19119591, -0.94312892, -1.031415  , ..., -0.5698444 ,\n",
       "        -0.57369368, -1.09168714],\n",
       "       ...,\n",
       "       [ 0.9015152 , -0.36890377,  0.00666099, ..., -0.5698444 ,\n",
       "        -0.57369368,  0.91601335],\n",
       "       [-0.62420521, -0.08179119,  1.39076231, ..., -0.5698444 ,\n",
       "         1.74309049, -1.09168714],\n",
       "       [-0.28401079,  0.87525072, -1.37744033, ...,  1.75486502,\n",
       "        -0.57369368, -1.09168714]])"
      ]
     },
     "execution_count": 17,
     "metadata": {},
     "output_type": "execute_result"
    }
   ],
   "source": [
    "X_train"
   ]
  },
  {
   "cell_type": "code",
   "execution_count": 18,
   "id": "9c75c0a4",
   "metadata": {
    "scrolled": true
   },
   "outputs": [
    {
     "data": {
      "text/plain": [
       "array([[-0.55204276, -0.36890377,  1.04473698, ...,  1.75486502,\n",
       "        -0.57369368, -1.09168714],\n",
       "       [-1.31490297,  0.10961719, -1.031415  , ..., -0.5698444 ,\n",
       "        -0.57369368, -1.09168714],\n",
       "       [ 0.57162971,  0.30102557,  1.04473698, ..., -0.5698444 ,\n",
       "         1.74309049, -1.09168714],\n",
       "       ...,\n",
       "       [-0.74791227, -0.27319958, -1.37744033, ..., -0.5698444 ,\n",
       "         1.74309049,  0.91601335],\n",
       "       [-0.00566991, -0.46460796, -0.33936434, ...,  1.75486502,\n",
       "        -0.57369368,  0.91601335],\n",
       "       [-0.79945688, -0.84742473,  1.04473698, ...,  1.75486502,\n",
       "        -0.57369368,  0.91601335]])"
      ]
     },
     "execution_count": 18,
     "metadata": {},
     "output_type": "execute_result"
    }
   ],
   "source": [
    "X_test"
   ]
  },
  {
   "cell_type": "code",
   "execution_count": 19,
   "id": "210c3208",
   "metadata": {
    "scrolled": true
   },
   "outputs": [
    {
     "data": {
      "text/plain": [
       "(8000, 11)"
      ]
     },
     "execution_count": 19,
     "metadata": {},
     "output_type": "execute_result"
    }
   ],
   "source": [
    "X_train.shape"
   ]
  },
  {
   "cell_type": "code",
   "execution_count": 20,
   "id": "eb6259e7",
   "metadata": {},
   "outputs": [
    {
     "data": {
      "text/plain": [
       "(2000, 11)"
      ]
     },
     "execution_count": 20,
     "metadata": {},
     "output_type": "execute_result"
    }
   ],
   "source": [
    "X_test.shape"
   ]
  },
  {
   "cell_type": "code",
   "execution_count": 21,
   "id": "ac8ab594",
   "metadata": {},
   "outputs": [
    {
     "data": {
      "text/plain": [
       "(8000,)"
      ]
     },
     "execution_count": 21,
     "metadata": {},
     "output_type": "execute_result"
    }
   ],
   "source": [
    "y_train.shape"
   ]
  },
  {
   "cell_type": "code",
   "execution_count": 22,
   "id": "4f614a16",
   "metadata": {},
   "outputs": [
    {
     "data": {
      "text/plain": [
       "(2000,)"
      ]
     },
     "execution_count": 22,
     "metadata": {},
     "output_type": "execute_result"
    }
   ],
   "source": [
    "y_test.shape"
   ]
  },
  {
   "cell_type": "markdown",
   "id": "44b82634",
   "metadata": {},
   "source": [
    "## Creating the ANN"
   ]
  },
  {
   "cell_type": "code",
   "execution_count": 23,
   "id": "0a9ad35b",
   "metadata": {},
   "outputs": [],
   "source": [
    "from tensorflow.keras.models import Sequential\n",
    "from tensorflow.keras.layers import Dense\n",
    "from tensorflow.keras.layers import LeakyReLU, PReLU, ELU, ReLU\n",
    "from tensorflow.keras.layers import Dropout"
   ]
  },
  {
   "cell_type": "markdown",
   "id": "8721dd4d",
   "metadata": {},
   "source": [
    "### Intialize the ANN"
   ]
  },
  {
   "cell_type": "code",
   "execution_count": 24,
   "id": "0937c5ea",
   "metadata": {},
   "outputs": [
    {
     "name": "stdout",
     "output_type": "stream",
     "text": [
      "WARNING:tensorflow:From C:\\Users\\abhin\\AppData\\Roaming\\Python\\Python310\\site-packages\\keras\\src\\backend.py:873: The name tf.get_default_graph is deprecated. Please use tf.compat.v1.get_default_graph instead.\n",
      "\n"
     ]
    }
   ],
   "source": [
    "classifier = Sequential()"
   ]
  },
  {
   "cell_type": "markdown",
   "id": "9124f7ff",
   "metadata": {},
   "source": [
    "### Adding the input layer"
   ]
  },
  {
   "cell_type": "code",
   "execution_count": 25,
   "id": "b264363d",
   "metadata": {},
   "outputs": [],
   "source": [
    "## 11 units means 11 features creating 11 nodes in input layer.\n",
    "## 'relu' is the activation function which is going to be applied in next layer.\n",
    "classifier.add(Dense(units=11,activation='relu'))"
   ]
  },
  {
   "cell_type": "markdown",
   "id": "b35b8e7d",
   "metadata": {},
   "source": [
    "### Adding the first hidden layer"
   ]
  },
  {
   "cell_type": "code",
   "execution_count": 26,
   "id": "cd349381",
   "metadata": {},
   "outputs": [],
   "source": [
    "classifier.add(Dense(units=7,activation='relu'))"
   ]
  },
  {
   "cell_type": "markdown",
   "id": "19688a76",
   "metadata": {},
   "source": [
    "### Adding the second hidden layer"
   ]
  },
  {
   "cell_type": "code",
   "execution_count": 27,
   "id": "c847f352",
   "metadata": {},
   "outputs": [],
   "source": [
    "classifier.add(Dense(units=6,activation='relu'))"
   ]
  },
  {
   "cell_type": "markdown",
   "id": "ba066987",
   "metadata": {},
   "source": [
    "### Adding the output layer"
   ]
  },
  {
   "cell_type": "code",
   "execution_count": 28,
   "id": "3eed37b7",
   "metadata": {},
   "outputs": [],
   "source": [
    "classifier.add(Dense(1,activation='sigmoid'))"
   ]
  },
  {
   "cell_type": "markdown",
   "id": "557b934b",
   "metadata": {},
   "source": [
    "## Training the ANN model"
   ]
  },
  {
   "cell_type": "code",
   "execution_count": 29,
   "id": "b7f71dd2",
   "metadata": {},
   "outputs": [
    {
     "name": "stdout",
     "output_type": "stream",
     "text": [
      "WARNING:tensorflow:From C:\\Users\\abhin\\AppData\\Roaming\\Python\\Python310\\site-packages\\keras\\src\\optimizers\\__init__.py:309: The name tf.train.Optimizer is deprecated. Please use tf.compat.v1.train.Optimizer instead.\n",
      "\n"
     ]
    }
   ],
   "source": [
    "## By default Adam use a learning rate of 0.01\n",
    "classifier.compile(optimizer='adam',\n",
    "                   loss='binary_crossentropy',\n",
    "                   metrics=['accuracy'])"
   ]
  },
  {
   "cell_type": "markdown",
   "id": "21d00684",
   "metadata": {},
   "source": [
    "## Early Stopping"
   ]
  },
  {
   "cell_type": "code",
   "execution_count": 31,
   "id": "27484ee0",
   "metadata": {},
   "outputs": [],
   "source": [
    "import tensorflow as tf\n",
    "early_stopping = tf.keras.callbacks.EarlyStopping(\n",
    "    monitor=\"val_loss\",\n",
    "    min_delta=0.0001,\n",
    "    patience=20,\n",
    "    verbose=1,\n",
    "    mode=\"auto\",\n",
    "    baseline=None,\n",
    "    restore_best_weights=False,\n",
    "    start_from_epoch=0,\n",
    ")"
   ]
  },
  {
   "cell_type": "code",
   "execution_count": 32,
   "id": "9a8f3de4",
   "metadata": {},
   "outputs": [],
   "source": [
    "## If we want to use a learning rate of your own\n",
    "import tensorflow\n",
    "opt = tensorflow.keras.optimizers.Adam(learning_rate=0.01)\n",
    "# Now,we can put this 'opt' in place of optimizer='opt'"
   ]
  },
  {
   "cell_type": "code",
   "execution_count": 33,
   "id": "7ee89268",
   "metadata": {},
   "outputs": [
    {
     "name": "stdout",
     "output_type": "stream",
     "text": [
      "Epoch 1/1000\n",
      "WARNING:tensorflow:From C:\\Users\\abhin\\AppData\\Roaming\\Python\\Python310\\site-packages\\keras\\src\\utils\\tf_utils.py:492: The name tf.ragged.RaggedTensorValue is deprecated. Please use tf.compat.v1.ragged.RaggedTensorValue instead.\n",
      "\n",
      "WARNING:tensorflow:From C:\\Users\\abhin\\AppData\\Roaming\\Python\\Python310\\site-packages\\keras\\src\\engine\\base_layer_utils.py:384: The name tf.executing_eagerly_outside_functions is deprecated. Please use tf.compat.v1.executing_eagerly_outside_functions instead.\n",
      "\n",
      "536/536 [==============================] - 4s 5ms/step - loss: 0.5189 - accuracy: 0.7962 - val_loss: 0.4617 - val_accuracy: 0.7955\n",
      "Epoch 2/1000\n",
      "536/536 [==============================] - 2s 4ms/step - loss: 0.4342 - accuracy: 0.7962 - val_loss: 0.4272 - val_accuracy: 0.7955\n",
      "Epoch 3/1000\n",
      "536/536 [==============================] - 2s 4ms/step - loss: 0.4070 - accuracy: 0.7962 - val_loss: 0.4124 - val_accuracy: 0.7955\n",
      "Epoch 4/1000\n",
      "536/536 [==============================] - 2s 5ms/step - loss: 0.3895 - accuracy: 0.8222 - val_loss: 0.3959 - val_accuracy: 0.8360\n",
      "Epoch 5/1000\n",
      "536/536 [==============================] - 2s 4ms/step - loss: 0.3774 - accuracy: 0.8468 - val_loss: 0.3878 - val_accuracy: 0.8383\n",
      "Epoch 6/1000\n",
      "536/536 [==============================] - 2s 4ms/step - loss: 0.3687 - accuracy: 0.8576 - val_loss: 0.3826 - val_accuracy: 0.8444\n",
      "Epoch 7/1000\n",
      "536/536 [==============================] - 2s 4ms/step - loss: 0.3625 - accuracy: 0.8591 - val_loss: 0.3810 - val_accuracy: 0.8455\n",
      "Epoch 8/1000\n",
      "536/536 [==============================] - 2s 4ms/step - loss: 0.3585 - accuracy: 0.8584 - val_loss: 0.3762 - val_accuracy: 0.8482\n",
      "Epoch 9/1000\n",
      "536/536 [==============================] - 2s 4ms/step - loss: 0.3545 - accuracy: 0.8615 - val_loss: 0.3743 - val_accuracy: 0.8504\n",
      "Epoch 10/1000\n",
      "536/536 [==============================] - 2s 4ms/step - loss: 0.3518 - accuracy: 0.8612 - val_loss: 0.3751 - val_accuracy: 0.8527\n",
      "Epoch 11/1000\n",
      "536/536 [==============================] - 2s 5ms/step - loss: 0.3495 - accuracy: 0.8625 - val_loss: 0.3714 - val_accuracy: 0.8504\n",
      "Epoch 12/1000\n",
      "536/536 [==============================] - 2s 4ms/step - loss: 0.3479 - accuracy: 0.8610 - val_loss: 0.3704 - val_accuracy: 0.8516\n",
      "Epoch 13/1000\n",
      "536/536 [==============================] - 2s 4ms/step - loss: 0.3456 - accuracy: 0.8608 - val_loss: 0.3722 - val_accuracy: 0.8478\n",
      "Epoch 14/1000\n",
      "536/536 [==============================] - 2s 4ms/step - loss: 0.3445 - accuracy: 0.8623 - val_loss: 0.3713 - val_accuracy: 0.8485\n",
      "Epoch 15/1000\n",
      "536/536 [==============================] - 2s 5ms/step - loss: 0.3427 - accuracy: 0.8632 - val_loss: 0.3690 - val_accuracy: 0.8508\n",
      "Epoch 16/1000\n",
      "536/536 [==============================] - 2s 4ms/step - loss: 0.3405 - accuracy: 0.8615 - val_loss: 0.3675 - val_accuracy: 0.8497\n",
      "Epoch 17/1000\n",
      "536/536 [==============================] - 2s 5ms/step - loss: 0.3400 - accuracy: 0.8628 - val_loss: 0.3675 - val_accuracy: 0.8489\n",
      "Epoch 18/1000\n",
      "536/536 [==============================] - 2s 4ms/step - loss: 0.3384 - accuracy: 0.8653 - val_loss: 0.3636 - val_accuracy: 0.8527\n",
      "Epoch 19/1000\n",
      "536/536 [==============================] - 2s 4ms/step - loss: 0.3378 - accuracy: 0.8621 - val_loss: 0.3645 - val_accuracy: 0.8504\n",
      "Epoch 20/1000\n",
      "536/536 [==============================] - 2s 4ms/step - loss: 0.3380 - accuracy: 0.8632 - val_loss: 0.3632 - val_accuracy: 0.8538\n",
      "Epoch 21/1000\n",
      "536/536 [==============================] - 2s 4ms/step - loss: 0.3370 - accuracy: 0.8640 - val_loss: 0.3622 - val_accuracy: 0.8535\n",
      "Epoch 22/1000\n",
      "536/536 [==============================] - 2s 5ms/step - loss: 0.3350 - accuracy: 0.8638 - val_loss: 0.3669 - val_accuracy: 0.8508\n",
      "Epoch 23/1000\n",
      "536/536 [==============================] - 2s 5ms/step - loss: 0.3356 - accuracy: 0.8614 - val_loss: 0.3622 - val_accuracy: 0.8519\n",
      "Epoch 24/1000\n",
      "536/536 [==============================] - 2s 4ms/step - loss: 0.3350 - accuracy: 0.8638 - val_loss: 0.3651 - val_accuracy: 0.8557\n",
      "Epoch 25/1000\n",
      "536/536 [==============================] - 2s 4ms/step - loss: 0.3342 - accuracy: 0.8610 - val_loss: 0.3642 - val_accuracy: 0.8501\n",
      "Epoch 26/1000\n",
      "536/536 [==============================] - 2s 4ms/step - loss: 0.3335 - accuracy: 0.8627 - val_loss: 0.3631 - val_accuracy: 0.8523\n",
      "Epoch 27/1000\n",
      "536/536 [==============================] - 2s 5ms/step - loss: 0.3326 - accuracy: 0.8630 - val_loss: 0.3639 - val_accuracy: 0.8501\n",
      "Epoch 28/1000\n",
      "536/536 [==============================] - 3s 5ms/step - loss: 0.3328 - accuracy: 0.8621 - val_loss: 0.3622 - val_accuracy: 0.8508\n",
      "Epoch 29/1000\n",
      "536/536 [==============================] - 2s 4ms/step - loss: 0.3320 - accuracy: 0.8614 - val_loss: 0.3597 - val_accuracy: 0.8557\n",
      "Epoch 30/1000\n",
      "536/536 [==============================] - 2s 4ms/step - loss: 0.3317 - accuracy: 0.8643 - val_loss: 0.3594 - val_accuracy: 0.8550\n",
      "Epoch 31/1000\n",
      "536/536 [==============================] - 2s 4ms/step - loss: 0.3305 - accuracy: 0.8640 - val_loss: 0.3602 - val_accuracy: 0.8576\n",
      "Epoch 32/1000\n",
      "536/536 [==============================] - 2s 4ms/step - loss: 0.3299 - accuracy: 0.8662 - val_loss: 0.3628 - val_accuracy: 0.8531\n",
      "Epoch 33/1000\n",
      "536/536 [==============================] - 2s 4ms/step - loss: 0.3298 - accuracy: 0.8649 - val_loss: 0.3643 - val_accuracy: 0.8501\n",
      "Epoch 34/1000\n",
      "536/536 [==============================] - 2s 4ms/step - loss: 0.3303 - accuracy: 0.8634 - val_loss: 0.3634 - val_accuracy: 0.8489\n",
      "Epoch 35/1000\n",
      "536/536 [==============================] - 2s 4ms/step - loss: 0.3289 - accuracy: 0.8642 - val_loss: 0.3624 - val_accuracy: 0.8504\n",
      "Epoch 36/1000\n",
      "536/536 [==============================] - 2s 4ms/step - loss: 0.3275 - accuracy: 0.8649 - val_loss: 0.3638 - val_accuracy: 0.8531\n",
      "Epoch 37/1000\n",
      "536/536 [==============================] - 2s 4ms/step - loss: 0.3277 - accuracy: 0.8649 - val_loss: 0.3661 - val_accuracy: 0.8527\n",
      "Epoch 38/1000\n",
      "536/536 [==============================] - 2s 4ms/step - loss: 0.3280 - accuracy: 0.8651 - val_loss: 0.3620 - val_accuracy: 0.8493\n",
      "Epoch 39/1000\n",
      "536/536 [==============================] - 2s 4ms/step - loss: 0.3274 - accuracy: 0.8649 - val_loss: 0.3640 - val_accuracy: 0.8535\n",
      "Epoch 40/1000\n",
      "536/536 [==============================] - 2s 4ms/step - loss: 0.3276 - accuracy: 0.8653 - val_loss: 0.3613 - val_accuracy: 0.8482\n",
      "Epoch 41/1000\n",
      "536/536 [==============================] - 2s 4ms/step - loss: 0.3271 - accuracy: 0.8649 - val_loss: 0.3619 - val_accuracy: 0.8508\n",
      "Epoch 42/1000\n",
      "536/536 [==============================] - 2s 4ms/step - loss: 0.3266 - accuracy: 0.8640 - val_loss: 0.3624 - val_accuracy: 0.8523\n",
      "Epoch 43/1000\n",
      "536/536 [==============================] - 2s 4ms/step - loss: 0.3261 - accuracy: 0.8647 - val_loss: 0.3604 - val_accuracy: 0.8557\n",
      "Epoch 44/1000\n",
      "536/536 [==============================] - 2s 4ms/step - loss: 0.3247 - accuracy: 0.8647 - val_loss: 0.3656 - val_accuracy: 0.8565\n",
      "Epoch 45/1000\n",
      "536/536 [==============================] - 2s 4ms/step - loss: 0.3257 - accuracy: 0.8658 - val_loss: 0.3623 - val_accuracy: 0.8519\n",
      "Epoch 46/1000\n",
      "536/536 [==============================] - 2s 4ms/step - loss: 0.3251 - accuracy: 0.8642 - val_loss: 0.3624 - val_accuracy: 0.8535\n",
      "Epoch 47/1000\n",
      "536/536 [==============================] - 2s 5ms/step - loss: 0.3241 - accuracy: 0.8671 - val_loss: 0.3641 - val_accuracy: 0.8489\n",
      "Epoch 48/1000\n",
      "536/536 [==============================] - 2s 4ms/step - loss: 0.3243 - accuracy: 0.8651 - val_loss: 0.3643 - val_accuracy: 0.8531\n",
      "Epoch 49/1000\n",
      "536/536 [==============================] - 2s 5ms/step - loss: 0.3232 - accuracy: 0.8664 - val_loss: 0.3628 - val_accuracy: 0.8531\n",
      "Epoch 50/1000\n",
      "536/536 [==============================] - 2s 4ms/step - loss: 0.3231 - accuracy: 0.8662 - val_loss: 0.3640 - val_accuracy: 0.8516\n",
      "Epoch 50: early stopping\n"
     ]
    }
   ],
   "source": [
    "model_history = classifier.fit(X_train,y_train,validation_split=0.33,batch_size=10,epochs=1000, callbacks=early_stopping)"
   ]
  },
  {
   "cell_type": "code",
   "execution_count": 34,
   "id": "94731915",
   "metadata": {},
   "outputs": [
    {
     "data": {
      "text/plain": [
       "dict_keys(['loss', 'accuracy', 'val_loss', 'val_accuracy'])"
      ]
     },
     "execution_count": 34,
     "metadata": {},
     "output_type": "execute_result"
    }
   ],
   "source": [
    "model_history.history.keys()"
   ]
  },
  {
   "cell_type": "code",
   "execution_count": 42,
   "id": "42697f19",
   "metadata": {},
   "outputs": [
    {
     "data": {
      "image/png": "[encoded data removed]",
      "text/plain": [
       "<Figure size 640x480 with 1 Axes>"
      ]
     },
     "metadata": {},
     "output_type": "display_data"
    }
   ],
   "source": [
    "# summarize history for accuracy\n",
    "import matplotlib.pyplot as plt\n",
    "plt.plot(model_history.history['accuracy'])\n",
    "plt.plot(model_history.history['val_accuracy'])\n",
    "plt.title('model accuracy')\n",
    "plt.ylabel('accuracy')\n",
    "plt.xlabel('epoch')\n",
    "plt.legend(['train','test'],loc='upper left')\n",
    "plt.show()"
   ]
  },
  {
   "cell_type": "code",
   "execution_count": 43,
   "id": "ad1f5194",
   "metadata": {},
   "outputs": [
    {
     "data": {
      "image/png": "[encoded data removed]",
      "text/plain": [
       "<Figure size 640x480 with 1 Axes>"
      ]
     },
     "metadata": {},
     "output_type": "display_data"
    }
   ],
   "source": [
    "# summarize history for loss\n",
    "plt.plot(model_history.history['loss'])\n",
    "plt.plot(model_history.history['val_loss'])\n",
    "plt.title('model loss')\n",
    "plt.ylabel('loss')\n",
    "plt.xlabel('epoch')\n",
    "plt.legend(['train','test'],loc='upper left')\n",
    "plt.show()"
   ]
  },
  {
   "cell_type": "markdown",
   "id": "6edc9df5",
   "metadata": {},
   "source": [
    "## Predicting the set test results"
   ]
  },
  {
   "cell_type": "code",
   "execution_count": 44,
   "id": "78c79d47",
   "metadata": {},
   "outputs": [
    {
     "name": "stdout",
     "output_type": "stream",
     "text": [
      "63/63 [==============================] - 1s 5ms/step\n"
     ]
    }
   ],
   "source": [
    "y_pred = classifier.predict(X_test)\n",
    "y_pred = (y_pred >= 0.5)"
   ]
  },
  {
   "cell_type": "markdown",
   "id": "cd73b545",
   "metadata": {},
   "source": [
    "### Plot the confusion matrix"
   ]
  },
  {
   "cell_type": "code",
   "execution_count": 46,
   "id": "2b433eed",
   "metadata": {},
   "outputs": [
    {
     "data": {
      "text/plain": [
       "array([[1507,   88],\n",
       "       [ 188,  217]], dtype=int64)"
      ]
     },
     "execution_count": 46,
     "metadata": {},
     "output_type": "execute_result"
    }
   ],
   "source": [
    "from sklearn.metrics import confusion_matrix\n",
    "cm = confusion_matrix(y_test, y_pred)\n",
    "cm"
   ]
  },
  {
   "cell_type": "markdown",
   "id": "87e64baa",
   "metadata": {},
   "source": [
    "### Calculate the accuracy"
   ]
  },
  {
   "cell_type": "code",
   "execution_count": 49,
   "id": "4be98586",
   "metadata": {},
   "outputs": [
    {
     "data": {
      "text/plain": [
       "0.862"
      ]
     },
     "execution_count": 49,
     "metadata": {},
     "output_type": "execute_result"
    }
   ],
   "source": [
    "from sklearn.metrics import accuracy_score\n",
    "score = accuracy_score(y_pred, y_test)\n",
    "score"
   ]
  },
  {
   "cell_type": "markdown",
   "id": "9ac97759",
   "metadata": {},
   "source": [
    "### Get the weights"
   ]
  },
  {
   "cell_type": "code",
   "execution_count": 50,
   "id": "03c07413",
   "metadata": {},
   "outputs": [
    {
     "data": {
      "text/plain": [
       "[array([[ 0.07543501, -0.13905713, -0.02679219,  0.16501763, -0.00674826,\n",
       "          0.20032495,  0.52493596, -0.09907679, -0.6239444 ,  0.25233287,\n",
       "          0.32347962],\n",
       "        [-0.7192317 ,  0.8757068 ,  0.30667266, -0.5783652 ,  0.60948664,\n",
       "          0.11629864,  0.06108564,  0.19094308,  0.08290195, -0.3646881 ,\n",
       "         -0.1492169 ],\n",
       "        [-0.22411184, -0.10093265,  0.18034619,  0.3560583 ,  0.27732277,\n",
       "         -0.03431602,  0.29305393, -0.00516632,  0.4189795 , -0.2881729 ,\n",
       "          0.29523197],\n",
       "        [ 0.08846938,  0.17873129, -0.26765573, -0.2134764 , -0.00226677,\n",
       "          0.36670533, -0.58149725,  0.42439744, -0.2450316 ,  0.18096125,\n",
       "         -0.44555917],\n",
       "        [ 0.371882  , -0.724825  , -0.9456336 ,  0.5600552 , -0.16342854,\n",
       "         -0.45283198,  0.3640288 ,  1.131195  , -0.14184818,  0.37553304,\n",
       "         -0.36937654],\n",
       "        [-0.19847848,  0.13722414, -0.14420013, -0.3161297 ,  0.09228928,\n",
       "          0.18803248,  0.2040924 , -0.14657445, -0.02728985, -0.14966546,\n",
       "          0.05478657],\n",
       "        [-0.71069115, -0.30837074, -0.09204351,  0.18524477,  0.7894074 ,\n",
       "         -0.6228662 , -0.26007724, -0.26155937, -0.32162356, -0.19815984,\n",
       "          0.18733495],\n",
       "        [ 0.19810359, -0.09927905,  0.04806196, -0.15063964, -0.21318732,\n",
       "         -0.33399355, -0.47967935,  0.10040231, -0.0287192 ,  0.28054214,\n",
       "         -0.2522509 ],\n",
       "        [-0.44695255, -0.01462446,  0.1902656 , -0.03327735,  0.14598504,\n",
       "          0.4705439 ,  0.42492035, -0.18679497, -0.4064783 ,  0.19283117,\n",
       "         -0.38033643],\n",
       "        [-0.5312031 , -0.17505819, -0.06979574, -0.14603452, -0.13372692,\n",
       "         -0.2594661 , -0.20974508,  0.01166325, -0.05690831,  0.16248778,\n",
       "         -0.2686208 ],\n",
       "        [ 0.02557624, -0.06348412, -0.19000752,  0.28668728, -0.20920408,\n",
       "         -0.5324927 , -0.01285901, -0.14461601,  0.04933013, -0.04706202,\n",
       "          0.05935132]], dtype=float32),\n",
       " array([ 0.21166496,  0.00442472,  0.01660296,  0.41393545,  0.07054978,\n",
       "         0.4088081 , -0.01621854, -0.614394  ,  0.10949238, -0.05278576,\n",
       "         0.5651417 ], dtype=float32),\n",
       " array([[-0.2125543 ,  0.35308257,  0.61640257, -0.26069447,  0.5034682 ,\n",
       "         -0.2240675 , -0.19997637],\n",
       "        [ 0.86360323,  0.29319677,  0.5126952 ,  0.17014493,  0.2506748 ,\n",
       "         -0.03757753, -0.14712402],\n",
       "        [ 0.5820855 ,  0.01958521,  0.16746001, -0.3810065 , -0.10114347,\n",
       "          0.17972931, -0.73537916],\n",
       "        [ 0.07580277, -0.75841135,  0.7264166 ,  0.5113649 , -0.18967047,\n",
       "         -0.2532361 ,  0.23991592],\n",
       "        [ 0.13522206,  0.2005369 , -0.67213285, -0.1318392 ,  0.6568935 ,\n",
       "         -0.32568246, -0.27654   ],\n",
       "        [-0.33882606, -0.7001042 ,  0.22509007, -0.46875238, -0.3158404 ,\n",
       "         -0.6071763 ,  0.42061767],\n",
       "        [ 0.24972074,  0.5521323 , -0.02283535,  0.1707052 , -0.28666815,\n",
       "          0.09213723, -0.5499796 ],\n",
       "        [ 0.7220829 , -0.18653119, -0.4245362 , -0.818475  , -0.14625634,\n",
       "          0.57902604, -0.03129241],\n",
       "        [-0.37403923, -0.06780744, -0.39967346,  0.09738724, -0.17116521,\n",
       "          0.36838293,  0.5067703 ],\n",
       "        [ 0.18488955,  0.2999249 , -0.37176725,  0.16486558, -0.02098381,\n",
       "         -0.641462  ,  0.09362452],\n",
       "        [-0.3476242 ,  0.47738162,  0.14978565,  0.45222157, -0.4649607 ,\n",
       "          0.6800399 ,  0.27269518]], dtype=float32),\n",
       " array([-0.22561008,  0.20163964,  0.28026694,  0.55882347,  0.28659856,\n",
       "        -0.17206022,  0.4094399 ], dtype=float32),\n",
       " array([[-0.6249575 , -0.9936539 , -0.24993789, -0.62633854, -0.70801044,\n",
       "         -0.42701662],\n",
       "        [-0.4966631 , -0.01681552,  0.5705073 , -0.1371214 , -0.14782149,\n",
       "          0.5923292 ],\n",
       "        [-0.05401601,  0.06878849, -0.460965  ,  0.14503306,  0.2782997 ,\n",
       "         -0.43929845],\n",
       "        [-0.09969483,  0.7093877 , -0.51845145,  0.2854107 ,  0.654928  ,\n",
       "          0.2910624 ],\n",
       "        [ 0.18552545,  0.22179122,  0.6345204 ,  0.19282797, -0.3133891 ,\n",
       "          0.862736  ],\n",
       "        [ 0.21217586, -0.03071474, -0.48607987, -0.39453706, -0.2484098 ,\n",
       "         -0.8624767 ],\n",
       "        [-0.18739384, -0.18314664,  0.29275724,  0.39069274,  0.04080858,\n",
       "          0.60736847]], dtype=float32),\n",
       " array([-0.14049298,  0.21131563,  0.21581736,  0.7693619 ,  0.8093608 ,\n",
       "         0.29388747], dtype=float32),\n",
       " array([[ 0.28045285],\n",
       "        [-0.34057853],\n",
       "        [-1.2831198 ],\n",
       "        [-1.0210443 ],\n",
       "        [-1.4298224 ],\n",
       "        [-1.1652837 ]], dtype=float32),\n",
       " array([1.8428909], dtype=float32)]"
      ]
     },
     "execution_count": 50,
     "metadata": {},
     "output_type": "execute_result"
    }
   ],
   "source": [
    "classifier.get_weights()"
   ]
  },
  {
   "cell_type": "code",
   "execution_count": null,
   "id": "6f3d8de9",
   "metadata": {},
   "outputs": [],
   "source": []
  }
 ],
 "metadata": {
  "kernelspec": {
   "display_name": "myenv",
   "language": "python",
   "name": "myenv"
  },
  "language_info": {
   "codemirror_mode": {
    "name": "ipython",
    "version": 3
   },
   "file_extension": ".py",
   "mimetype": "text/x-python",
   "name": "python",
   "nbconvert_exporter": "python",
   "pygments_lexer": "ipython3",
   "version": "3.10.4"
  }
 },
 "nbformat": 4,
 "nbformat_minor": 5
}
